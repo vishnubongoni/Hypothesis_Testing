{
  "nbformat": 4,
  "nbformat_minor": 0,
  "metadata": {
    "colab": {
      "provenance": [],
      "authorship_tag": "ABX9TyNJ2kJ5uq06BI3APIPasjIg",
      "include_colab_link": true
    },
    "kernelspec": {
      "name": "python3",
      "display_name": "Python 3"
    },
    "language_info": {
      "name": "python"
    }
  },
  "cells": [
    {
      "cell_type": "markdown",
      "metadata": {
        "id": "view-in-github",
        "colab_type": "text"
      },
      "source": [
        "<a href=\"https://colab.research.google.com/github/vishnubongoni/Hypothesis_Testing/blob/main/Hypothesis_test.ipynb\" target=\"_parent\"><img src=\"https://colab.research.google.com/assets/colab-badge.svg\" alt=\"Open In Colab\"/></a>"
      ]
    },
    {
      "cell_type": "code",
      "execution_count": null,
      "metadata": {
        "id": "QwiSbLJGeFlM"
      },
      "outputs": [],
      "source": [
        "#import all libraries\n",
        "import numpy as np\n",
        "import pandas as pd\n",
        "from scipy import stats"
      ]
    },
    {
      "cell_type": "markdown",
      "source": [
        "SUPER MARKET EXAMPLE\n",
        "\n",
        "Population mean =$120\n",
        "\n",
        "Sample mean=$130\n",
        "\n",
        "n=80\n",
        "\n",
        "Sample std deviation=$40\n",
        "\n",
        "Null Hypothesis-Average spending is not significantally higher than $120.Kindly do not launch the program\n",
        "\n",
        "Alternate Hypothesis-Average Spending is Significantally higher than $130.DO launch the program\n",
        "\n"
      ],
      "metadata": {
        "id": "jLhgF04wehXT"
      }
    },
    {
      "cell_type": "code",
      "source": [
        "from google.colab import files\n",
        "files.download('Hypothesis_test.ipynb')\n"
      ],
      "metadata": {
        "colab": {
          "base_uri": "https://localhost:8080/",
          "height": 314
        },
        "id": "YGajoq4SpfnL",
        "outputId": "ee705fa3-f8e7-4096-bce7-5d7c270951c8"
      },
      "execution_count": null,
      "outputs": [
        {
          "output_type": "error",
          "ename": "FileNotFoundError",
          "evalue": "ignored",
          "traceback": [
            "\u001b[0;31m---------------------------------------------------------------------------\u001b[0m",
            "\u001b[0;31mFileNotFoundError\u001b[0m                         Traceback (most recent call last)",
            "\u001b[0;32m<ipython-input-17-0ec56fca37d9>\u001b[0m in \u001b[0;36m<cell line: 2>\u001b[0;34m()\u001b[0m\n\u001b[1;32m      1\u001b[0m \u001b[0;32mfrom\u001b[0m \u001b[0mgoogle\u001b[0m\u001b[0;34m.\u001b[0m\u001b[0mcolab\u001b[0m \u001b[0;32mimport\u001b[0m \u001b[0mfiles\u001b[0m\u001b[0;34m\u001b[0m\u001b[0;34m\u001b[0m\u001b[0m\n\u001b[0;32m----> 2\u001b[0;31m \u001b[0mfiles\u001b[0m\u001b[0;34m.\u001b[0m\u001b[0mdownload\u001b[0m\u001b[0;34m(\u001b[0m\u001b[0;34m'Hypothesis_test.ipynb'\u001b[0m\u001b[0;34m)\u001b[0m\u001b[0;34m\u001b[0m\u001b[0;34m\u001b[0m\u001b[0m\n\u001b[0m",
            "\u001b[0;32m/usr/local/lib/python3.10/dist-packages/google/colab/files.py\u001b[0m in \u001b[0;36mdownload\u001b[0;34m(filename)\u001b[0m\n\u001b[1;32m    223\u001b[0m   \u001b[0;32mif\u001b[0m \u001b[0;32mnot\u001b[0m \u001b[0m_os\u001b[0m\u001b[0;34m.\u001b[0m\u001b[0mpath\u001b[0m\u001b[0;34m.\u001b[0m\u001b[0mexists\u001b[0m\u001b[0;34m(\u001b[0m\u001b[0mfilename\u001b[0m\u001b[0;34m)\u001b[0m\u001b[0;34m:\u001b[0m\u001b[0;34m\u001b[0m\u001b[0;34m\u001b[0m\u001b[0m\n\u001b[1;32m    224\u001b[0m     \u001b[0mmsg\u001b[0m \u001b[0;34m=\u001b[0m \u001b[0;34m'Cannot find file: {}'\u001b[0m\u001b[0;34m.\u001b[0m\u001b[0mformat\u001b[0m\u001b[0;34m(\u001b[0m\u001b[0mfilename\u001b[0m\u001b[0;34m)\u001b[0m\u001b[0;34m\u001b[0m\u001b[0;34m\u001b[0m\u001b[0m\n\u001b[0;32m--> 225\u001b[0;31m     \u001b[0;32mraise\u001b[0m \u001b[0mFileNotFoundError\u001b[0m\u001b[0;34m(\u001b[0m\u001b[0mmsg\u001b[0m\u001b[0;34m)\u001b[0m  \u001b[0;31m# pylint: disable=undefined-variable\u001b[0m\u001b[0;34m\u001b[0m\u001b[0;34m\u001b[0m\u001b[0m\n\u001b[0m\u001b[1;32m    226\u001b[0m \u001b[0;34m\u001b[0m\u001b[0m\n\u001b[1;32m    227\u001b[0m   \u001b[0mcomm_manager\u001b[0m \u001b[0;34m=\u001b[0m \u001b[0m_IPython\u001b[0m\u001b[0;34m.\u001b[0m\u001b[0mget_ipython\u001b[0m\u001b[0;34m(\u001b[0m\u001b[0;34m)\u001b[0m\u001b[0;34m.\u001b[0m\u001b[0mkernel\u001b[0m\u001b[0;34m.\u001b[0m\u001b[0mcomm_manager\u001b[0m\u001b[0;34m\u001b[0m\u001b[0;34m\u001b[0m\u001b[0m\n",
            "\u001b[0;31mFileNotFoundError\u001b[0m: Cannot find file: Hypothesis_test.ipynb"
          ]
        }
      ]
    },
    {
      "cell_type": "code",
      "source": [
        "#t=((sample mean/X)-pop mean)/Std Error\n",
        "t=(130-120)/(40/np.sqrt(80))\n",
        "t"
      ],
      "metadata": {
        "colab": {
          "base_uri": "https://localhost:8080/"
        },
        "id": "KdBLCPqrfl14",
        "outputId": "0e91c72b-6ae0-4d2b-ad75-d77cd8519512"
      },
      "execution_count": null,
      "outputs": [
        {
          "output_type": "execute_result",
          "data": {
            "text/plain": [
              "2.23606797749979"
            ]
          },
          "metadata": {},
          "execution_count": 2
        }
      ]
    },
    {
      "cell_type": "code",
      "source": [
        "#Cummulative Density Function\n",
        "#The probability given as output for the average spent of <=130\n",
        "#Degrees of Freedom=sample size minus one =80-1=79\n",
        "stats.t.cdf(t,df=79)"
      ],
      "metadata": {
        "colab": {
          "base_uri": "https://localhost:8080/"
        },
        "id": "gKfA6dXagjG3",
        "outputId": "f178e34f-7511-4e94-fe5b-ce1e3cf2dd13"
      },
      "execution_count": null,
      "outputs": [
        {
          "output_type": "execute_result",
          "data": {
            "text/plain": [
              "0.9859156837229892"
            ]
          },
          "metadata": {},
          "execution_count": 3
        }
      ]
    },
    {
      "cell_type": "code",
      "source": [
        "#To calcualte the p-value of average spent of >=130\n",
        "1-stats.t.cdf(t,df=79)"
      ],
      "metadata": {
        "colab": {
          "base_uri": "https://localhost:8080/"
        },
        "id": "Ye4GWElihfxz",
        "outputId": "fa29f436-5c77-4427-db8a-6eaf758afcc4"
      },
      "execution_count": null,
      "outputs": [
        {
          "output_type": "execute_result",
          "data": {
            "text/plain": [
              "0.014084316277010789"
            ]
          },
          "metadata": {},
          "execution_count": 4
        }
      ]
    },
    {
      "cell_type": "markdown",
      "source": [
        "Since we have 0.01 chance of error,which is less than 0.05 signifiance level,for the average spending >$130,the super market can go ahead a launch loyality program\n",
        "\n",
        "Alternate Hypothesis=Average spent of customers is greater than $130\n",
        "\n",
        "Null Hypothesis=Average Spent of Customers is around $120\n",
        "\n",
        "In this case p value<significance level\n",
        "\n",
        "Hence Alternate Hypthesis is accepted"
      ],
      "metadata": {
        "id": "7uYCqfoLh7YQ"
      }
    },
    {
      "cell_type": "markdown",
      "source": [
        "CALL CENTER EXAMPLE\n"
      ],
      "metadata": {
        "id": "KKVJ9wtZl8qD"
      }
    },
    {
      "cell_type": "markdown",
      "source": [
        "Null Hypothesis-The average call duration is still at 4 min & the variation in the sample is out of random error/chance\n",
        "\n",
        "Alternate Hypothsis-The average call duration is significantly different than the assumed mean of 4 min"
      ],
      "metadata": {
        "id": "E_qWj4RcmJl2"
      }
    },
    {
      "cell_type": "code",
      "source": [
        "#populatio mean=4 min\n",
        "#population stddev=3 min"
      ],
      "metadata": {
        "id": "LWmTVjH7gjSv"
      },
      "execution_count": null,
      "outputs": []
    },
    {
      "cell_type": "code",
      "source": [
        "duration=pd.Series([3.7,4.1,3.5,4.2,3.9,4.1,4.2,3.8,3.7,4.6,3.7,4.6,4.0,4.2,3.8,4.4,5.3,6.1,7.2,6.5])"
      ],
      "metadata": {
        "id": "6mxYsthtgjVl"
      },
      "execution_count": null,
      "outputs": []
    },
    {
      "cell_type": "code",
      "source": [
        "#Sample size\n",
        "len(duration)"
      ],
      "metadata": {
        "colab": {
          "base_uri": "https://localhost:8080/"
        },
        "id": "kcrHGoiOnv2E",
        "outputId": "7983d4c7-b3a9-4e50-ca11-82ec08126c37"
      },
      "execution_count": null,
      "outputs": [
        {
          "output_type": "execute_result",
          "data": {
            "text/plain": [
              "20"
            ]
          },
          "metadata": {},
          "execution_count": 7
        }
      ]
    },
    {
      "cell_type": "code",
      "source": [
        "#sample mean\n",
        "duration.mean()"
      ],
      "metadata": {
        "colab": {
          "base_uri": "https://localhost:8080/"
        },
        "id": "6toYEUh5nv5I",
        "outputId": "6d4edbc3-136b-464d-c7f4-6c2379ef2866"
      },
      "execution_count": null,
      "outputs": [
        {
          "output_type": "execute_result",
          "data": {
            "text/plain": [
              "4.4799999999999995"
            ]
          },
          "metadata": {},
          "execution_count": 8
        }
      ]
    },
    {
      "cell_type": "code",
      "source": [
        "#t=((sample mean-population mean)/(Std Deviation /sqrt(sample size)\n",
        "t=(4.48-4)/(3/np.sqrt(20))\n",
        "t"
      ],
      "metadata": {
        "colab": {
          "base_uri": "https://localhost:8080/"
        },
        "id": "Ddf-nkBioAQq",
        "outputId": "01fc8728-e834-4ef4-951e-3581a6048bcc"
      },
      "execution_count": null,
      "outputs": [
        {
          "output_type": "execute_result",
          "data": {
            "text/plain": [
              "0.7155417527999334"
            ]
          },
          "metadata": {},
          "execution_count": 9
        }
      ]
    },
    {
      "cell_type": "code",
      "source": [
        "1-stats.t.cdf(t,df=19)"
      ],
      "metadata": {
        "colab": {
          "base_uri": "https://localhost:8080/"
        },
        "id": "bC3tIBLJoATb",
        "outputId": "bb080ab8-be63-475f-b32f-61f31151a61e"
      },
      "execution_count": null,
      "outputs": [
        {
          "output_type": "execute_result",
          "data": {
            "text/plain": [
              "0.24148792354598703"
            ]
          },
          "metadata": {},
          "execution_count": 10
        }
      ]
    },
    {
      "cell_type": "code",
      "source": [
        "t=(1.5-4)/(3/np.sqrt(20))\n",
        "print(t)\n",
        "stats.t.cdf(t,df=19)"
      ],
      "metadata": {
        "colab": {
          "base_uri": "https://localhost:8080/"
        },
        "id": "JstjssPGoAXT",
        "outputId": "31a49981-acac-46bb-8969-aae023175f56"
      },
      "execution_count": null,
      "outputs": [
        {
          "output_type": "stream",
          "name": "stdout",
          "text": [
            "-3.7267799624996494\n"
          ]
        },
        {
          "output_type": "execute_result",
          "data": {
            "text/plain": [
              "0.0007148636846156863"
            ]
          },
          "metadata": {},
          "execution_count": 11
        }
      ]
    },
    {
      "cell_type": "code",
      "source": [
        "from scipy import stats\n",
        "import pandas as pd\n",
        "data=pd.Series([0.593,0.142,0.329,0.691,0.231,0.793,0.519,0.392,0.418])"
      ],
      "metadata": {
        "id": "rll6DjqmoezW"
      },
      "execution_count": null,
      "outputs": []
    },
    {
      "cell_type": "code",
      "source": [
        "data.mean()"
      ],
      "metadata": {
        "colab": {
          "base_uri": "https://localhost:8080/"
        },
        "id": "DKdtVsQYoe11",
        "outputId": "9b42615c-04fd-4289-a3e3-691081c01bb6"
      },
      "execution_count": null,
      "outputs": [
        {
          "output_type": "execute_result",
          "data": {
            "text/plain": [
              "0.45644444444444443"
            ]
          },
          "metadata": {},
          "execution_count": 13
        }
      ]
    },
    {
      "cell_type": "code",
      "source": [
        "#This gives one tail test p-value\n",
        "p=stats.ttest_1samp(data,0.3)\n",
        "print(p)\n",
        "p=stats.ttest_1samp(data,0.3)[1]\n",
        "print(round(p,2))"
      ],
      "metadata": {
        "colab": {
          "base_uri": "https://localhost:8080/"
        },
        "id": "u6pEYSmKoe4e",
        "outputId": "cf216334-f678-4835-f29a-49c1caf3bfec"
      },
      "execution_count": null,
      "outputs": [
        {
          "output_type": "stream",
          "name": "stdout",
          "text": [
            "TtestResult(statistic=2.2050588385131595, pvalue=0.05853032968489765, df=8)\n",
            "0.06\n"
          ]
        }
      ]
    },
    {
      "cell_type": "code",
      "source": [
        "control=pd.Series([])"
      ],
      "metadata": {
        "id": "gusozOHHoe7d",
        "colab": {
          "base_uri": "https://localhost:8080/"
        },
        "outputId": "ce6712f2-e230-4168-9098-fcecd8a9293c"
      },
      "execution_count": null,
      "outputs": [
        {
          "output_type": "stream",
          "name": "stderr",
          "text": [
            "<ipython-input-15-8100609105cd>:1: FutureWarning: The default dtype for empty Series will be 'object' instead of 'float64' in a future version. Specify a dtype explicitly to silence this warning.\n",
            "  control=pd.Series([])\n"
          ]
        }
      ]
    }
  ]
}